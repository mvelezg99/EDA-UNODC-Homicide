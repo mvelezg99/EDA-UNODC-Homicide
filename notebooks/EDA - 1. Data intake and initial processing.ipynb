{
 "cells": [
  {
   "cell_type": "markdown",
   "metadata": {},
   "source": [
    "**<p style=\"font-size: 35px; text-align: center\">Exploratory Data Analysis UNODC Homicide</p>**\n",
    "\n",
    "\n",
    "\n",
    "## ***<center>Data intake and initial processing</center>***\n",
    "\n",
    "<hr/>\n",
    "\n",
    "![homicide](https://i.imgur.com/UupWMeA.png)\n"
   ]
  },
  {
   "cell_type": "markdown",
   "metadata": {},
   "source": [
    "<hr/>"
   ]
  },
  {
   "cell_type": "markdown",
   "metadata": {},
   "source": [
    "## Table of contents <a name=\"home\"/>\n",
    "1. [Project settings](#settings)\n",
    "2. [Description](#description)<br>\n",
    "    2.1 [Data description](#data-description)\n",
    "3. [Reading data](#reading)\n",
    "\n",
    "<hr/>\n",
    "\n"
   ]
  },
  {
   "cell_type": "markdown",
   "metadata": {},
   "source": [
    "## 1. Project Settings <a name=\"settings\"/>[🏠](#home)"
   ]
  },
  {
   "cell_type": "code",
   "execution_count": 6,
   "metadata": {},
   "outputs": [
    {
     "name": "stdout",
     "output_type": "stream",
     "text": [
      "The watermark extension is already loaded. To reload it, use:\n",
      "  %reload_ext watermark\n",
      "2019-03-21T15:44:19-05:00\n",
      "\n",
      "CPython 3.7.0\n",
      "IPython 6.5.0\n",
      "\n",
      "compiler   : MSC v.1912 64 bit (AMD64)\n",
      "system     : Windows\n",
      "release    : 10\n",
      "machine    : AMD64\n",
      "processor  : Intel64 Family 6 Model 142 Stepping 9, GenuineIntel\n",
      "CPU cores  : 4\n",
      "interpreter: 64bit\n"
     ]
    }
   ],
   "source": [
    "# --- Watermark --- #\n",
    "\n",
    "%load_ext watermark\n",
    "%watermark\n",
    "\n",
    "# ----------------- #"
   ]
  },
  {
   "cell_type": "code",
   "execution_count": 1,
   "metadata": {},
   "outputs": [],
   "source": [
    "# --- Importing tools --- #\n",
    "\n",
    "import pandas as pd\n",
    "\n",
    "# ----------------------- #"
   ]
  },
  {
   "cell_type": "markdown",
   "metadata": {},
   "source": [
    "<hr/>"
   ]
  },
  {
   "cell_type": "markdown",
   "metadata": {},
   "source": [
    "## 2. Description <a name=\"description\"/> [🏠](#home) \n"
   ]
  },
  {
   "cell_type": "markdown",
   "metadata": {},
   "source": [
    "In this first section of our Exploratory Data Analysis report, we will make a reading of the data that we will analyze and an initial processing of that data.\n",
    "\n",
    "...\n",
    "\n",
    "### 2.1 Data Description <a name=\"data-description\">\n",
    "It is important to talk about the dataset and the data contained in it, so, we can find 6 columns which will be our variables:\n",
    "\n",
    "- **Country or Area:** The country or Area recorded.\n",
    "- **Year:** Year of the record from 1995 to 2012.\n",
    "- **Count:** This count means the amount of deaths per country in each year.\n",
    "- **Rate:** This rate means the rate of deaths per 100 000 population.\n",
    "- **Source:** It is the source which provides the information about the deaths.\n",
    "- **Source Type:** It is the type of the source which provides the information about the deaths, could be provided by the \"CJ: Criminal Justice\" or by the \"PH: Public Health\"\n",
    "\n",
    "For more information about the dataset description, see here: [http://data.un.org/Data.aspx?d=UNODC&f=tableCode%3a1#UNODC](http://data.un.org/Data.aspx?d=UNODC&f=tableCode%3a1#UNODC)\n",
    "\n",
    "..."
   ]
  },
  {
   "cell_type": "markdown",
   "metadata": {},
   "source": [
    "*****"
   ]
  },
  {
   "cell_type": "markdown",
   "metadata": {},
   "source": [
    "## 3. Reading data <a name=\"reading\"/> [🏠](#home)\n"
   ]
  },
  {
   "cell_type": "markdown",
   "metadata": {},
   "source": [
    "We will read the data from the .csv file provided by the UNODC. We are reading it as a `pandas DataFrame`."
   ]
  },
  {
   "cell_type": "code",
   "execution_count": 7,
   "metadata": {},
   "outputs": [],
   "source": [
    "# Reading the .csv file with pandas, reading it as a pandas DataFrame\n",
    "homicides = pd.read_csv(\"../data/UNdata_Export_20190321_150129401.csv\")"
   ]
  },
  {
   "cell_type": "markdown",
   "metadata": {},
   "source": [
    "With this done, we have now the .csv information as a `pandas DataFrame`, so we can work with it now."
   ]
  },
  {
   "cell_type": "code",
   "execution_count": 8,
   "metadata": {},
   "outputs": [
    {
     "data": {
      "text/plain": [
       "(1719, 6)"
      ]
     },
     "execution_count": 8,
     "metadata": {},
     "output_type": "execute_result"
    }
   ],
   "source": [
    "# Looking for the shape of the Data Frame\n",
    "homicides.shape"
   ]
  },
  {
   "cell_type": "markdown",
   "metadata": {},
   "source": [
    "In this dataset originally provided by the UNODC we could find <mark>1719</mark> records for the <mark>6</mark> columns; let's take a look for the first 5 records."
   ]
  },
  {
   "cell_type": "code",
   "execution_count": 9,
   "metadata": {},
   "outputs": [
    {
     "data": {
      "text/html": [
       "<div>\n",
       "<style scoped>\n",
       "    .dataframe tbody tr th:only-of-type {\n",
       "        vertical-align: middle;\n",
       "    }\n",
       "\n",
       "    .dataframe tbody tr th {\n",
       "        vertical-align: top;\n",
       "    }\n",
       "\n",
       "    .dataframe thead th {\n",
       "        text-align: right;\n",
       "    }\n",
       "</style>\n",
       "<table border=\"1\" class=\"dataframe\">\n",
       "  <thead>\n",
       "    <tr style=\"text-align: right;\">\n",
       "      <th></th>\n",
       "      <th>Country or Area</th>\n",
       "      <th>Year</th>\n",
       "      <th>Count</th>\n",
       "      <th>Rate</th>\n",
       "      <th>Source</th>\n",
       "      <th>Source Type</th>\n",
       "    </tr>\n",
       "  </thead>\n",
       "  <tbody>\n",
       "    <tr>\n",
       "      <th>0</th>\n",
       "      <td>Afghanistan</td>\n",
       "      <td>2008</td>\n",
       "      <td>712</td>\n",
       "      <td>2.4</td>\n",
       "      <td>WHO</td>\n",
       "      <td>PH</td>\n",
       "    </tr>\n",
       "    <tr>\n",
       "      <th>1</th>\n",
       "      <td>Albania</td>\n",
       "      <td>2010</td>\n",
       "      <td>127</td>\n",
       "      <td>4.0</td>\n",
       "      <td>CTS/Transmonee</td>\n",
       "      <td>CJ</td>\n",
       "    </tr>\n",
       "    <tr>\n",
       "      <th>2</th>\n",
       "      <td>Albania</td>\n",
       "      <td>2009</td>\n",
       "      <td>85</td>\n",
       "      <td>2.7</td>\n",
       "      <td>CTS/Transmonee</td>\n",
       "      <td>CJ</td>\n",
       "    </tr>\n",
       "    <tr>\n",
       "      <th>3</th>\n",
       "      <td>Albania</td>\n",
       "      <td>2008</td>\n",
       "      <td>93</td>\n",
       "      <td>2.9</td>\n",
       "      <td>CTS/Transmonee</td>\n",
       "      <td>CJ</td>\n",
       "    </tr>\n",
       "    <tr>\n",
       "      <th>4</th>\n",
       "      <td>Albania</td>\n",
       "      <td>2007</td>\n",
       "      <td>105</td>\n",
       "      <td>3.3</td>\n",
       "      <td>CTS/Transmonee</td>\n",
       "      <td>CJ</td>\n",
       "    </tr>\n",
       "  </tbody>\n",
       "</table>\n",
       "</div>"
      ],
      "text/plain": [
       "  Country or Area  Year  Count  Rate          Source Source Type\n",
       "0     Afghanistan  2008    712   2.4             WHO          PH\n",
       "1         Albania  2010    127   4.0  CTS/Transmonee          CJ\n",
       "2         Albania  2009     85   2.7  CTS/Transmonee          CJ\n",
       "3         Albania  2008     93   2.9  CTS/Transmonee          CJ\n",
       "4         Albania  2007    105   3.3  CTS/Transmonee          CJ"
      ]
     },
     "execution_count": 9,
     "metadata": {},
     "output_type": "execute_result"
    }
   ],
   "source": [
    "# Showing the first 5 records from our DataFrame\n",
    "homicides.head()"
   ]
  },
  {
   "cell_type": "markdown",
   "metadata": {},
   "source": [
    "It is convenient to rename the columns and give them a more descriptive name; looking to avoid all possible mistakes or confusions."
   ]
  },
  {
   "cell_type": "code",
   "execution_count": 13,
   "metadata": {},
   "outputs": [],
   "source": [
    "# Renaming the dataset columns\n",
    "homicides = homicides.rename(columns = {\n",
    "    \"Country or Area\" : \"country\",\n",
    "    \"Year\" : \"year\",\n",
    "    \"Count\" : \"amount\", # Total amount of deaths per year per country\n",
    "    \"Rate\" : \"rate\",\n",
    "    \"Source\" : \"source\",\n",
    "    \"Source Type\" : \"sourceType\"\n",
    "})"
   ]
  },
  {
   "cell_type": "code",
   "execution_count": 14,
   "metadata": {},
   "outputs": [
    {
     "data": {
      "text/html": [
       "<div>\n",
       "<style scoped>\n",
       "    .dataframe tbody tr th:only-of-type {\n",
       "        vertical-align: middle;\n",
       "    }\n",
       "\n",
       "    .dataframe tbody tr th {\n",
       "        vertical-align: top;\n",
       "    }\n",
       "\n",
       "    .dataframe thead th {\n",
       "        text-align: right;\n",
       "    }\n",
       "</style>\n",
       "<table border=\"1\" class=\"dataframe\">\n",
       "  <thead>\n",
       "    <tr style=\"text-align: right;\">\n",
       "      <th></th>\n",
       "      <th>country</th>\n",
       "      <th>year</th>\n",
       "      <th>amount</th>\n",
       "      <th>rate</th>\n",
       "      <th>source</th>\n",
       "      <th>sourceType</th>\n",
       "    </tr>\n",
       "  </thead>\n",
       "  <tbody>\n",
       "    <tr>\n",
       "      <th>0</th>\n",
       "      <td>Afghanistan</td>\n",
       "      <td>2008</td>\n",
       "      <td>712</td>\n",
       "      <td>2.4</td>\n",
       "      <td>WHO</td>\n",
       "      <td>PH</td>\n",
       "    </tr>\n",
       "    <tr>\n",
       "      <th>1</th>\n",
       "      <td>Albania</td>\n",
       "      <td>2010</td>\n",
       "      <td>127</td>\n",
       "      <td>4.0</td>\n",
       "      <td>CTS/Transmonee</td>\n",
       "      <td>CJ</td>\n",
       "    </tr>\n",
       "    <tr>\n",
       "      <th>2</th>\n",
       "      <td>Albania</td>\n",
       "      <td>2009</td>\n",
       "      <td>85</td>\n",
       "      <td>2.7</td>\n",
       "      <td>CTS/Transmonee</td>\n",
       "      <td>CJ</td>\n",
       "    </tr>\n",
       "    <tr>\n",
       "      <th>3</th>\n",
       "      <td>Albania</td>\n",
       "      <td>2008</td>\n",
       "      <td>93</td>\n",
       "      <td>2.9</td>\n",
       "      <td>CTS/Transmonee</td>\n",
       "      <td>CJ</td>\n",
       "    </tr>\n",
       "    <tr>\n",
       "      <th>4</th>\n",
       "      <td>Albania</td>\n",
       "      <td>2007</td>\n",
       "      <td>105</td>\n",
       "      <td>3.3</td>\n",
       "      <td>CTS/Transmonee</td>\n",
       "      <td>CJ</td>\n",
       "    </tr>\n",
       "  </tbody>\n",
       "</table>\n",
       "</div>"
      ],
      "text/plain": [
       "       country  year  amount  rate          source sourceType\n",
       "0  Afghanistan  2008     712   2.4             WHO         PH\n",
       "1      Albania  2010     127   4.0  CTS/Transmonee         CJ\n",
       "2      Albania  2009      85   2.7  CTS/Transmonee         CJ\n",
       "3      Albania  2008      93   2.9  CTS/Transmonee         CJ\n",
       "4      Albania  2007     105   3.3  CTS/Transmonee         CJ"
      ]
     },
     "execution_count": 14,
     "metadata": {},
     "output_type": "execute_result"
    }
   ],
   "source": [
    "homicides.head()"
   ]
  },
  {
   "cell_type": "code",
   "execution_count": null,
   "metadata": {},
   "outputs": [],
   "source": []
  }
 ],
 "metadata": {
  "kernelspec": {
   "display_name": "Python 3",
   "language": "python",
   "name": "python3"
  },
  "language_info": {
   "codemirror_mode": {
    "name": "ipython",
    "version": 3
   },
   "file_extension": ".py",
   "mimetype": "text/x-python",
   "name": "python",
   "nbconvert_exporter": "python",
   "pygments_lexer": "ipython3",
   "version": "3.7.0"
  }
 },
 "nbformat": 4,
 "nbformat_minor": 2
}
